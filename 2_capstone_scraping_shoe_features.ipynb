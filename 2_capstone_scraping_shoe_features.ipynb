{
 "cells": [
  {
   "cell_type": "markdown",
   "metadata": {},
   "source": [
    "# Capstone Project - Scraping shoe features"
   ]
  },
  {
   "cell_type": "code",
   "execution_count": 1,
   "metadata": {},
   "outputs": [],
   "source": [
    "from bs4 import BeautifulSoup as bs\n",
    "import requests\n",
    "import pandas as pd\n",
    "import datetime\n",
    "from time import time, sleep\n",
    "from random import randint\n",
    "from IPython.core.display import clear_output\n",
    "from warnings import warn"
   ]
  },
  {
   "cell_type": "markdown",
   "metadata": {},
   "source": [
    "### Reading in previously scraped shoe names and slugs"
   ]
  },
  {
   "cell_type": "code",
   "execution_count": 2,
   "metadata": {},
   "outputs": [],
   "source": [
    "shoe_list = pd.read_csv(\"shoe_list.csv\")"
   ]
  },
  {
   "cell_type": "code",
   "execution_count": 3,
   "metadata": {
    "scrolled": false
   },
   "outputs": [
    {
     "name": "stdout",
     "output_type": "stream",
     "text": [
      "(2066, 2)\n"
     ]
    },
    {
     "data": {
      "text/html": [
       "<div>\n",
       "<style scoped>\n",
       "    .dataframe tbody tr th:only-of-type {\n",
       "        vertical-align: middle;\n",
       "    }\n",
       "\n",
       "    .dataframe tbody tr th {\n",
       "        vertical-align: top;\n",
       "    }\n",
       "\n",
       "    .dataframe thead th {\n",
       "        text-align: right;\n",
       "    }\n",
       "</style>\n",
       "<table border=\"1\" class=\"dataframe\">\n",
       "  <thead>\n",
       "    <tr style=\"text-align: right;\">\n",
       "      <th></th>\n",
       "      <th>name</th>\n",
       "      <th>slug</th>\n",
       "    </tr>\n",
       "  </thead>\n",
       "  <tbody>\n",
       "    <tr>\n",
       "      <th>0</th>\n",
       "      <td>Nike Air Zoom Pegasus 35</td>\n",
       "      <td>nike-air-zoom-pegasus-35</td>\n",
       "    </tr>\n",
       "    <tr>\n",
       "      <th>1</th>\n",
       "      <td>Brooks Ghost 11</td>\n",
       "      <td>brooks-ghost-11</td>\n",
       "    </tr>\n",
       "    <tr>\n",
       "      <th>2</th>\n",
       "      <td>Asics Gel Kayano 25</td>\n",
       "      <td>asics-gel-kayano-25</td>\n",
       "    </tr>\n",
       "  </tbody>\n",
       "</table>\n",
       "</div>"
      ],
      "text/plain": [
       "                       name                      slug\n",
       "0  Nike Air Zoom Pegasus 35  nike-air-zoom-pegasus-35\n",
       "1           Brooks Ghost 11           brooks-ghost-11\n",
       "2       Asics Gel Kayano 25       asics-gel-kayano-25"
      ]
     },
     "execution_count": 3,
     "metadata": {},
     "output_type": "execute_result"
    }
   ],
   "source": [
    "print(shoe_list.shape)\n",
    "shoe_list.head(3)"
   ]
  },
  {
   "cell_type": "markdown",
   "metadata": {},
   "source": [
    "### Preparation for scraping shoe features"
   ]
  },
  {
   "cell_type": "markdown",
   "metadata": {},
   "source": [
    "Data of 2066 running shoes will be scraped from the RunRepeat shoe review website."
   ]
  },
  {
   "cell_type": "code",
   "execution_count": 4,
   "metadata": {},
   "outputs": [],
   "source": [
    "# Start with an empty list\n",
    "shoes = []\n",
    "\n",
    "# Specify the order of columns for creating DataFrame later\n",
    "columns = [\n",
    "    'name',\n",
    "    'brand',\n",
    "    'core_score',\n",
    "    'user_review_count',\n",
    "    'expert_review_count',\n",
    "    'user_rating',\n",
    "    'expert_rating',\n",
    "    'user_5star',\n",
    "    'user_4star',\n",
    "    'user_3star',\n",
    "    'user_2star',\n",
    "    'user_1star',\n",
    "    'discontinued',\n",
    "    'terrain',\n",
    "    'arch_support',\n",
    "    'use',\n",
    "    'waterproof',\n",
    "    'water_repellent',\n",
    "    'maximalist',\n",
    "    'minimalist',\n",
    "    'triathlon',\n",
    "    'price',\n",
    "    'weight',\n",
    "    'toe_drop',\n",
    "    'heel_height',\n",
    "    'forefoot_height',\n",
    "    'width',\n",
    "    'good_summary',\n",
    "    'bad_summary',\n",
    "    'summary',\n",
    "    'info',\n",
    "    'size_fit',\n",
    "    'outsole',\n",
    "    'midsole',\n",
    "    'upper']"
   ]
  },
  {
   "cell_type": "code",
   "execution_count": 18,
   "metadata": {},
   "outputs": [],
   "source": [
    "# Define function to scrape data of up to 500 shoes at a time\n",
    "def scrape_shoes(start_id, end_id):\n",
    "\n",
    "    # Preparing the monitoring of the loop\n",
    "    time_started = datetime.datetime.now()\n",
    "    start_time = time()\n",
    "    req = 0\n",
    "\n",
    "    # Loop through each shoe in the given range\n",
    "    for s in range(start_id, end_id):\n",
    "\n",
    "        # Use requests library to get the content from each shoe page\n",
    "        res = requests.get('https://runrepeat.com/{}'.format(shoe_list.iloc[s,1]))\n",
    "\n",
    "        # Space out each request so as not to overwhelm the server\n",
    "        sleep(randint(2,5))\n",
    "\n",
    "        # Monitor the requests\n",
    "        req += 1\n",
    "        elapsed_time = round((time() - start_time),3)\n",
    "        freq = round((req/elapsed_time),3)\n",
    "        print('Request: {}; Frequency: {} requests/s; Index: {}, {}; Elapsed time: {}s'.format(req, freq, len(shoes)+1, shoe_list.iloc[s,0], elapsed_time))\n",
    "        clear_output(wait = True)\n",
    "\n",
    "        # Throw a warning for non-200 status codes\n",
    "        if res.status_code != 200:\n",
    "            warn('Request: {}; Status code: {}'.format(req, res.status_code))\n",
    "\n",
    "        # Break the loop if the number of requests is greater than expected\n",
    "        if req > 500:\n",
    "            warn('Number of requests was greater than expected.')\n",
    "            break\n",
    "\n",
    "        # Create soup object from shoe html\n",
    "        shoe_soup = bs(res.content, 'lxml')\n",
    "\n",
    "        # Start with an empty shoe dictionary\n",
    "        shoe = {}\n",
    "\n",
    "        # Shoe name\n",
    "        shoe['name'] = shoe_list.iloc[s,0]\n",
    "\n",
    "        # Shoe brand\n",
    "        try:\n",
    "            shoe['brand'] = \" \".join(shoe_soup.find_all('span', {'class': 'rank-text'})[1].text.split()[2:])\n",
    "        except Exception as e:\n",
    "            shoe['brand'] = \"\"\n",
    "\n",
    "        # Core score given by website\n",
    "        try:\n",
    "            shoe['core_score'] = shoe_soup.find('span', {'class': 'overall_score_number'}).text\n",
    "        except Exception as e:\n",
    "            shoe['core_score'] = \"\"\n",
    "\n",
    "        rating_container = shoe_soup.find('div', {'class': 'rating-container w100'})\n",
    "\n",
    "        # Number of user reviews\n",
    "        try:\n",
    "            shoe['user_review_count'] = rating_container.find('a', {'href': 'javascript:void(0)'}).text.split(\" \")[0]\n",
    "        except Exception as e:\n",
    "            shoe['user_review_count'] = \"\"\n",
    "\n",
    "        # Number of expert reviews\n",
    "        try:\n",
    "            shoe['expert_review_count'] = rating_container.find('a', {'href': '#expert_reviews'}).text.split(\" \")[0]\n",
    "        except Exception as e:\n",
    "            shoe['expert_review_count'] = \"\"\n",
    "\n",
    "        # User rating\n",
    "        try:\n",
    "            shoe['user_rating'] = rating_container.find_all('span')[0].text.split(\"/\")[0]\n",
    "        except Exception as e:\n",
    "            shoe['user_rating'] = \"\"\n",
    "\n",
    "        # Expert rating\n",
    "        try:\n",
    "            shoe['expert_rating'] = rating_container.find_all('span')[1].text.split(\"/\")[0]\n",
    "        except Exception as e:\n",
    "            shoe['expert_rating'] = \"\"\n",
    "\n",
    "        # 5-star user rating (percentage of ratings given 5-star)\n",
    "        try:\n",
    "            shoe['user_5star'] = shoe_soup.find('div', {'id': 'rcs_item_5'}).find('div', {'class': 'rcs_percentage'}).text\n",
    "        except Exception as e:\n",
    "            shoe['user_5star'] = \"\"\n",
    "\n",
    "        # 4-star user rating (percentage of ratings given 4-star)\n",
    "        try:\n",
    "            shoe['user_4star'] = shoe_soup.find('div', {'id': 'rcs_item_4'}).find('div', {'class': 'rcs_percentage'}).text\n",
    "        except Exception as e:\n",
    "            shoe['user_4star'] = \"\"\n",
    "\n",
    "        # 3-star user rating (percentage of ratings given 3-star)\n",
    "        try:\n",
    "            shoe['user_3star'] = shoe_soup.find('div', {'id': 'rcs_item_3'}).find('div', {'class': 'rcs_percentage'}).text\n",
    "        except Exception as e:\n",
    "            shoe['user_3star'] = \"\"\n",
    "\n",
    "        # 2-star user rating (percentage of ratings given 2-star)\n",
    "        try:\n",
    "            shoe['user_2star'] = shoe_soup.find('div', {'id': 'rcs_item_2'}).find('div', {'class': 'rcs_percentage'}).text\n",
    "        except Exception as e:\n",
    "            shoe['user_2star'] = \"\"\n",
    "\n",
    "        # 1-star user rating (percentage of ratings given 1-star)\n",
    "        try:\n",
    "            shoe['user_1star'] = shoe_soup.find('div', {'id': 'rcs_item_1'}).find('div', {'class': 'rcs_percentage'}).text\n",
    "        except Exception as e:\n",
    "            shoe['user_1star'] = \"\"\n",
    "\n",
    "        fact_list = shoe_soup.find('ul', {'class': 'fact-list'})\n",
    "\n",
    "        # Check if shoe is discontinued\n",
    "        try:\n",
    "            itemFound = fact_list.find('span', {'style': 'color: red;'}).text\n",
    "            shoe['discontinued'] = \"Y\"\n",
    "        except Exception as e:\n",
    "            shoe['discontinued'] = \"N\"\n",
    "\n",
    "        # Terrain\n",
    "        try:\n",
    "            shoe['terrain'] = fact_list.find('li', {'class': 'fact-item fact-item_terrain'}).find('div', {'class': 'fact-value text-left'}).text\n",
    "        except Exception as e:\n",
    "            shoe['terrain'] = \"\"\n",
    "\n",
    "        # Arch support\n",
    "        try:\n",
    "            shoe['arch_support'] = fact_list.find('li', {'class': 'fact-item fact-item_arch-support'}).find('div', {'class': 'fact-value text-left'}).text\n",
    "        except Exception as e:\n",
    "            shoe['arch_support'] = \"\"\n",
    "\n",
    "        # Use\n",
    "        try:\n",
    "            shoe['use'] = fact_list.find('li', {'class': 'fact-item fact-item_use'}).find('div', {'class': 'fact-value text-left'}).text\n",
    "        except Exception as e:\n",
    "            shoe['use'] = \"\"\n",
    "\n",
    "        # Waterproof\n",
    "        try:\n",
    "            shoe['waterproof'] = fact_list.find('li', {'class': 'fact-item fact-item_waterproof'}).find('div', {'class': 'fact-value text-left'}).text\n",
    "        except Exception as e:\n",
    "            shoe['waterproof'] = \"\"\n",
    "            \n",
    "        # Water repellent\n",
    "        try:\n",
    "            shoe['water_repellent'] = fact_list.find('li', {'class': 'fact-item fact-item_water-repellent'}).find('div', {'class': 'fact-value text-left'}).text\n",
    "        except Exception as e:\n",
    "            shoe['water_repellent'] = \"\"\n",
    "            \n",
    "        # Maximalist\n",
    "        try:\n",
    "            shoe['maximalist'] = fact_list.find('li', {'class': 'fact-item fact-item_maximalist'}).find('div', {'class': 'fact-value text-left'}).text\n",
    "        except Exception as e:\n",
    "            shoe['maximalist'] = \"\"\n",
    "            \n",
    "        # Minimalist\n",
    "        try:\n",
    "            shoe['minimalist'] = fact_list.find('li', {'class': 'fact-item fact-item_minimalist'}).find('div', {'class': 'fact-value text-left'}).text\n",
    "        except Exception as e:\n",
    "            shoe['minimalist'] = \"\"\n",
    "            \n",
    "        # Triathlon\n",
    "        try:\n",
    "            shoe['triathlon'] = fact_list.find('li', {'class': 'fact-item fact-item_triathlon'}).find('div', {'class': 'fact-value text-left'}).text\n",
    "        except Exception as e:\n",
    "            shoe['triathlon'] = \"\"\n",
    "        \n",
    "        # Price\n",
    "        try:\n",
    "            shoe['price'] = fact_list.find('li', {'class': 'fact-item fact-item_price'}).find('div', {'class': 'fact-value text-left'}).text.replace(\"$\",\"\")\n",
    "        except Exception as e:\n",
    "            shoe['price'] = \"\"\n",
    "\n",
    "        # Weight\n",
    "        try:\n",
    "            shoe['weight'] = \"\"\n",
    "            weight_list = fact_list.find('li', {'class': 'fact-item fact-item_weight'}).find('div', {'class': 'fact-value text-left'}).find_all('div')\n",
    "            for i in range(len(weight_list)):\n",
    "                shoe['weight'] += weight_list[i].text + \";\"\n",
    "        except Exception as e:\n",
    "            shoe['weight'] = \"\"    \n",
    "            \n",
    "#         # Weight for men's\n",
    "#         try:\n",
    "#             shoe['weight_m'] = fact_list.find('li', {'class': 'fact-item fact-item_weight'}).find('div', {'class': 'fact-value text-left'}).find_all('div')[0].text\n",
    "#         except Exception as e:\n",
    "#             shoe['weight_m'] = \"\"\n",
    "            \n",
    "#         # Weight for women's\n",
    "#         try:\n",
    "#             shoe['weight_w'] = fact_list.find('li', {'class': 'fact-item fact-item_weight'}).find('div', {'class': 'fact-value text-left'}).find_all('div')[1].text\n",
    "#         except Exception as e:\n",
    "#             shoe['weight_w'] = \"\"\n",
    "\n",
    "        # Heel to Toe drop\n",
    "        try:\n",
    "            shoe['toe_drop'] = \"\"\n",
    "            toe_drop_list = fact_list.find('li', {'class': 'fact-item fact-item_heel-to-toe-drop'}).find('div', {'class': 'fact-value text-left'}).find_all('div')\n",
    "            for i in range(len(toe_drop_list)):\n",
    "                shoe['toe_drop'] += toe_drop_list[i].text + \";\"\n",
    "        except Exception as e:\n",
    "            shoe['toe_drop'] = \"\"\n",
    "\n",
    "        # Heel height\n",
    "        try:\n",
    "            shoe['heel_height'] = \"\"\n",
    "            heel_height_list = fact_list.find('li', {'class': 'fact-item fact-item_heel-height'}).find('div', {'class': 'fact-value text-left'}).find_all('div')\n",
    "            for i in range(len(heel_height_list)):\n",
    "                shoe['heel_height'] += heel_height_list[i].text + \";\"\n",
    "        except Exception as e:\n",
    "            shoe['heel_height'] = \"\"\n",
    "\n",
    "        # Forefoot height\n",
    "        try:\n",
    "            shoe['forefoot_height'] = \"\"\n",
    "            forefoot_height_list = fact_list.find('li', {'class': 'fact-item fact-item_forefoot-height'}).find('div', {'class': 'fact-value text-left'}).find_all('div')\n",
    "            for i in range(len(forefoot_height_list)):\n",
    "                shoe['forefoot_height'] += forefoot_height_list[i].text + \";\"\n",
    "        except Exception as e:\n",
    "            shoe['forefoot_height'] = \"\"\n",
    "\n",
    "        # Width\n",
    "        try:\n",
    "            shoe['width'] = \"\"\n",
    "            width_list = fact_list.find('li', {'class': 'fact-item fact-item_width'}).find('div', {'class': 'fact-value text-left'}).find_all('div')\n",
    "            for i in range(len(width_list)):\n",
    "                shoe['width'] += width_list[i].text + \";\"\n",
    "        except Exception as e:\n",
    "            shoe['witdth'] = \"\"\n",
    "\n",
    "        # review_section = shoe_soup.find('section', {'id': 'bottom_line_section'})\n",
    "\n",
    "        # product_section = shoe_soup.find('section', {'id': 'rr_text'})\n",
    "\n",
    "        # Summary of good reviews\n",
    "        try:\n",
    "            shoe['good_summary'] = \"\"\n",
    "            good_list = shoe_soup.find('div', {'id': 'the_good'}).find_all('li')\n",
    "            for i in range(len(good_list)):\n",
    "                shoe['good_summary'] += good_list[i].text + \";\"\n",
    "        except Exception as e:\n",
    "            shoe['good_summary'] = \"\"\n",
    "\n",
    "        # Summary of bad reviews\n",
    "        try:\n",
    "            shoe['bad_summary'] = \"\"\n",
    "            bad_list = shoe_soup.find('div', {'id': 'the_bad'}).find_all('li')\n",
    "            for i in range(len(bad_list)):\n",
    "                shoe['bad_summary'] += bad_list[i].text + \";\"\n",
    "        except Exception as e:\n",
    "            shoe['bad_summary'] = \"\"\n",
    "\n",
    "        # Overall summary\n",
    "        try:\n",
    "            shoe['summary'] = \"\"\n",
    "            summary_list = shoe_soup.find('div', {'itemprop': 'description'}).find_all('p')\n",
    "            for i in range(len(summary_list)):\n",
    "                shoe['summary'] += summary_list[i].text + \";\"\n",
    "        except Exception as e:\n",
    "            shoe['summary'] = \"\"\n",
    "\n",
    "        # Product information\n",
    "        try:\n",
    "            shoe['info'] = \"\"\n",
    "            info_list = shoe_soup.find('div', {'class': 'product-updates'}).find_all('li')\n",
    "            for i in range(len(info_list)):\n",
    "                shoe['info'] += info_list[i].text + \";\"\n",
    "        except Exception as e:\n",
    "            shoe['info'] = \"\"\n",
    "\n",
    "        # Size and fit\n",
    "        try:\n",
    "            shoe['size_fit'] = \"\"\n",
    "            size_list = shoe_soup.find('div', {'class': 'size-and-fit'}).find_all('p')\n",
    "            for i in range(len(size_list)):\n",
    "                shoe['size_fit'] += size_list[i].text + \";\"\n",
    "        except Exception as e:\n",
    "            shoe['size_fit'] = \"\"\n",
    "\n",
    "        # Outsole\n",
    "        try:\n",
    "            shoe['outsole'] = \"\"\n",
    "            outsole_list = shoe_soup.find('div', {'class': 'outsole'}).find_all('p')\n",
    "            for i in range(len(outsole_list)):\n",
    "                shoe['outsole'] += outsole_list[i].text + \";\"\n",
    "        except Exception as e:\n",
    "            shoe['outsole'] = \"\"\n",
    "\n",
    "        # Midsole\n",
    "        try:\n",
    "            shoe['midsole'] = \"\"\n",
    "            midsole_list = shoe_soup.find('div', {'class': 'midsole'}).find_all('p')\n",
    "            for i in range(len(midsole_list)):\n",
    "                shoe['midsole'] += midsole_list[i].text + \";\"\n",
    "        except Exception as e:\n",
    "            shoe['midsole'] = \"\"\n",
    "\n",
    "        # Upper\n",
    "        try:\n",
    "            shoe['upper'] = \"\"\n",
    "            upper_list = shoe_soup.find('div', {'class': 'upper'}).find_all('p')\n",
    "            for i in range(len(upper_list)):\n",
    "                shoe['upper'] += upper_list[i].text + \";\"\n",
    "        except Exception as e:\n",
    "            shoe['upper'] = \"\"\n",
    "\n",
    "        # Add the shoe dictionary to our list of shoes\n",
    "        shoes.append(shoe)\n",
    "        \n",
    "    # Create a DataFrame from the list of dictionaries\n",
    "    df = pd.DataFrame(shoes, columns = columns)\n",
    "    \n",
    "    # Save to csv\n",
    "    df.to_csv('shoe_data.csv', index=False)"
   ]
  },
  {
   "cell_type": "markdown",
   "metadata": {},
   "source": [
    "### Calling function to periodically scrape and save data to csv"
   ]
  },
  {
   "cell_type": "markdown",
   "metadata": {},
   "source": [
    "`time.sleep()` method is additionally used to space out each calling of the scraping function, so as not to overwhelm the server.\n",
    "\n",
    "Errors encountered will likely be due to sending too many requests from the same ip address in a short period of time."
   ]
  },
  {
   "cell_type": "code",
   "execution_count": 6,
   "metadata": {},
   "outputs": [
    {
     "name": "stdout",
     "output_type": "stream",
     "text": [
      "Request: 100; Frequency: 0.155 requests/s; Index: 100, New Balance Fresh Foam Vongo v3; Elapsed time: 643.648s\n"
     ]
    }
   ],
   "source": [
    "scrape_shoes(0,100)"
   ]
  },
  {
   "cell_type": "code",
   "execution_count": 7,
   "metadata": {},
   "outputs": [
    {
     "name": "stdout",
     "output_type": "stream",
     "text": [
      "Request: 100; Frequency: 0.158 requests/s; Index: 200, Nike Revolution 3; Elapsed time: 631.42s\n"
     ]
    }
   ],
   "source": [
    "sleep(180)\n",
    "scrape_shoes(100,200)"
   ]
  },
  {
   "cell_type": "code",
   "execution_count": 8,
   "metadata": {},
   "outputs": [
    {
     "name": "stdout",
     "output_type": "stream",
     "text": [
      "Request: 100; Frequency: 0.165 requests/s; Index: 300, Nike Air Zoom Vomero 12; Elapsed time: 605.257s\n"
     ]
    }
   ],
   "source": [
    "sleep(180)\n",
    "scrape_shoes(200,300)"
   ]
  },
  {
   "cell_type": "code",
   "execution_count": 9,
   "metadata": {},
   "outputs": [
    {
     "name": "stdout",
     "output_type": "stream",
     "text": [
      "Request: 100; Frequency: 0.16 requests/s; Index: 400, Nike Air Zoom Pegasus 32; Elapsed time: 623.671s\n"
     ]
    }
   ],
   "source": [
    "scrape_shoes(300,400)"
   ]
  },
  {
   "cell_type": "code",
   "execution_count": 10,
   "metadata": {},
   "outputs": [
    {
     "name": "stdout",
     "output_type": "stream",
     "text": [
      "Request: 100; Frequency: 0.158 requests/s; Index: 500, Adidas Terrex Skychaser GTX; Elapsed time: 634.343s\n"
     ]
    }
   ],
   "source": [
    "sleep(180)\n",
    "scrape_shoes(400,500)"
   ]
  },
  {
   "cell_type": "code",
   "execution_count": 11,
   "metadata": {},
   "outputs": [
    {
     "name": "stdout",
     "output_type": "stream",
     "text": [
      "Request: 100; Frequency: 0.158 requests/s; Index: 600, Asics Gel Surveyor 5; Elapsed time: 634.168s\n"
     ]
    }
   ],
   "source": [
    "sleep(180)\n",
    "scrape_shoes(500,600)"
   ]
  },
  {
   "cell_type": "code",
   "execution_count": 12,
   "metadata": {},
   "outputs": [
    {
     "name": "stdout",
     "output_type": "stream",
     "text": [
      "Request: 100; Frequency: 0.155 requests/s; Index: 700, Nike Air Zoom Winflo 2; Elapsed time: 647.085s\n"
     ]
    }
   ],
   "source": [
    "sleep(180)\n",
    "scrape_shoes(600,700)"
   ]
  },
  {
   "cell_type": "code",
   "execution_count": 13,
   "metadata": {},
   "outputs": [
    {
     "name": "stdout",
     "output_type": "stream",
     "text": [
      "Request: 100; Frequency: 0.154 requests/s; Index: 800, Skechers GOrun MaxRoad 3 Ultra; Elapsed time: 650.021s\n"
     ]
    }
   ],
   "source": [
    "sleep(180)\n",
    "scrape_shoes(700,800)"
   ]
  },
  {
   "cell_type": "code",
   "execution_count": 14,
   "metadata": {},
   "outputs": [
    {
     "name": "stdout",
     "output_type": "stream",
     "text": [
      "Request: 100; Frequency: 0.14 requests/s; Index: 900, Under Armour Scorpio 2; Elapsed time: 714.574s\n"
     ]
    }
   ],
   "source": [
    "sleep(180)\n",
    "scrape_shoes(800,900)"
   ]
  },
  {
   "cell_type": "code",
   "execution_count": 15,
   "metadata": {},
   "outputs": [
    {
     "name": "stdout",
     "output_type": "stream",
     "text": [
      "Request: 100; Frequency: 0.037 requests/s; Index: 1000, Asics Gel Quantum 360 Shift; Elapsed time: 2728.317s\n"
     ]
    }
   ],
   "source": [
    "sleep(180)\n",
    "scrape_shoes(900,1000)"
   ]
  },
  {
   "cell_type": "code",
   "execution_count": 17,
   "metadata": {},
   "outputs": [
    {
     "name": "stdout",
     "output_type": "stream",
     "text": [
      "Request: 100; Frequency: 0.134 requests/s; Index: 1100, Reebok Print Run Prime Ultraknit; Elapsed time: 747.989s\n"
     ]
    }
   ],
   "source": [
    "scrape_shoes(1000,1100)"
   ]
  },
  {
   "cell_type": "code",
   "execution_count": 19,
   "metadata": {},
   "outputs": [
    {
     "name": "stdout",
     "output_type": "stream",
     "text": [
      "Request: 100; Frequency: 0.166 requests/s; Index: 1200, Adidas Energy Bounce; Elapsed time: 601.964s\n"
     ]
    }
   ],
   "source": [
    "sleep(150)\n",
    "scrape_shoes(1100,1200)"
   ]
  },
  {
   "cell_type": "code",
   "execution_count": 20,
   "metadata": {},
   "outputs": [
    {
     "name": "stdout",
     "output_type": "stream",
     "text": [
      "Request: 100; Frequency: 0.172 requests/s; Index: 1300, Asics Gel Quantum 360 Shift MX; Elapsed time: 582.16s\n"
     ]
    }
   ],
   "source": [
    "sleep(150)\n",
    "scrape_shoes(1200,1300)"
   ]
  },
  {
   "cell_type": "code",
   "execution_count": 21,
   "metadata": {},
   "outputs": [
    {
     "name": "stdout",
     "output_type": "stream",
     "text": [
      "Request: 100; Frequency: 0.175 requests/s; Index: 1400, Adidas Duramo 6; Elapsed time: 569.961s\n"
     ]
    }
   ],
   "source": [
    "sleep(150)\n",
    "scrape_shoes(1300,1400)"
   ]
  },
  {
   "cell_type": "code",
   "execution_count": 22,
   "metadata": {},
   "outputs": [
    {
     "name": "stdout",
     "output_type": "stream",
     "text": [
      "Request: 100; Frequency: 0.178 requests/s; Index: 1500, Vibram FiveFingers Spyridon MR Elite; Elapsed time: 562.891s\n"
     ]
    }
   ],
   "source": [
    "sleep(150)\n",
    "scrape_shoes(1400,1500)"
   ]
  },
  {
   "cell_type": "code",
   "execution_count": 23,
   "metadata": {},
   "outputs": [
    {
     "name": "stdout",
     "output_type": "stream",
     "text": [
      "Request: 100; Frequency: 0.181 requests/s; Index: 1600, Altra Instinct 3.0; Elapsed time: 550.995s\n"
     ]
    }
   ],
   "source": [
    "sleep(150)\n",
    "scrape_shoes(1500,1600)"
   ]
  },
  {
   "cell_type": "code",
   "execution_count": 24,
   "metadata": {},
   "outputs": [
    {
     "name": "stdout",
     "output_type": "stream",
     "text": [
      "Request: 100; Frequency: 0.177 requests/s; Index: 1700, Adidas Pure Boost R; Elapsed time: 565.17s\n"
     ]
    }
   ],
   "source": [
    "sleep(150)\n",
    "scrape_shoes(1600,1700)"
   ]
  },
  {
   "cell_type": "code",
   "execution_count": 25,
   "metadata": {},
   "outputs": [
    {
     "name": "stdout",
     "output_type": "stream",
     "text": [
      "Request: 100; Frequency: 0.174 requests/s; Index: 1800, Reebok RealFlex Run Tempo 2.0; Elapsed time: 575.788s\n"
     ]
    }
   ],
   "source": [
    "sleep(150)\n",
    "scrape_shoes(1700,1800)"
   ]
  },
  {
   "cell_type": "code",
   "execution_count": 26,
   "metadata": {},
   "outputs": [
    {
     "name": "stdout",
     "output_type": "stream",
     "text": [
      "Request: 100; Frequency: 0.174 requests/s; Index: 1900, Under Armour Charged Assert 8; Elapsed time: 573.884s\n"
     ]
    }
   ],
   "source": [
    "sleep(150)\n",
    "scrape_shoes(1800,1900)"
   ]
  },
  {
   "cell_type": "code",
   "execution_count": 27,
   "metadata": {},
   "outputs": [
    {
     "name": "stdout",
     "output_type": "stream",
     "text": [
      "Request: 100; Frequency: 0.176 requests/s; Index: 2000, Puma Hybrid Rocket Desert ; Elapsed time: 569.032s\n"
     ]
    }
   ],
   "source": [
    "sleep(150)\n",
    "scrape_shoes(1900,2000)"
   ]
  },
  {
   "cell_type": "code",
   "execution_count": 28,
   "metadata": {
    "collapsed": true
   },
   "outputs": [
    {
     "ename": "IndexError",
     "evalue": "single positional indexer is out-of-bounds",
     "output_type": "error",
     "traceback": [
      "\u001b[0;31m---------------------------------------------------------------------------\u001b[0m",
      "\u001b[0;31mIndexError\u001b[0m                                Traceback (most recent call last)",
      "\u001b[0;32m<ipython-input-28-e9b642564794>\u001b[0m in \u001b[0;36m<module>\u001b[0;34m\u001b[0m\n\u001b[1;32m      1\u001b[0m \u001b[0msleep\u001b[0m\u001b[0;34m(\u001b[0m\u001b[0;36m150\u001b[0m\u001b[0;34m)\u001b[0m\u001b[0;34m\u001b[0m\u001b[0;34m\u001b[0m\u001b[0m\n\u001b[0;32m----> 2\u001b[0;31m \u001b[0mscrape_shoes\u001b[0m\u001b[0;34m(\u001b[0m\u001b[0;36m2000\u001b[0m\u001b[0;34m,\u001b[0m\u001b[0;36m2067\u001b[0m\u001b[0;34m)\u001b[0m\u001b[0;34m\u001b[0m\u001b[0;34m\u001b[0m\u001b[0m\n\u001b[0m",
      "\u001b[0;32m<ipython-input-18-1e8d51e5d11f>\u001b[0m in \u001b[0;36mscrape_shoes\u001b[0;34m(start_id, end_id)\u001b[0m\n\u001b[1;32m     11\u001b[0m \u001b[0;34m\u001b[0m\u001b[0m\n\u001b[1;32m     12\u001b[0m         \u001b[0;31m# Use requests library to get the content from each shoe page\u001b[0m\u001b[0;34m\u001b[0m\u001b[0;34m\u001b[0m\u001b[0;34m\u001b[0m\u001b[0m\n\u001b[0;32m---> 13\u001b[0;31m         \u001b[0mres\u001b[0m \u001b[0;34m=\u001b[0m \u001b[0mrequests\u001b[0m\u001b[0;34m.\u001b[0m\u001b[0mget\u001b[0m\u001b[0;34m(\u001b[0m\u001b[0;34m'https://runrepeat.com/{}'\u001b[0m\u001b[0;34m.\u001b[0m\u001b[0mformat\u001b[0m\u001b[0;34m(\u001b[0m\u001b[0mshoe_list\u001b[0m\u001b[0;34m.\u001b[0m\u001b[0miloc\u001b[0m\u001b[0;34m[\u001b[0m\u001b[0ms\u001b[0m\u001b[0;34m,\u001b[0m\u001b[0;36m1\u001b[0m\u001b[0;34m]\u001b[0m\u001b[0;34m)\u001b[0m\u001b[0;34m)\u001b[0m\u001b[0;34m\u001b[0m\u001b[0;34m\u001b[0m\u001b[0m\n\u001b[0m\u001b[1;32m     14\u001b[0m \u001b[0;34m\u001b[0m\u001b[0m\n\u001b[1;32m     15\u001b[0m         \u001b[0;31m# Space out each request so as not to overwhelm the server\u001b[0m\u001b[0;34m\u001b[0m\u001b[0;34m\u001b[0m\u001b[0;34m\u001b[0m\u001b[0m\n",
      "\u001b[0;32m/anaconda3/lib/python3.7/site-packages/pandas/core/indexing.py\u001b[0m in \u001b[0;36m__getitem__\u001b[0;34m(self, key)\u001b[0m\n\u001b[1;32m   1492\u001b[0m             \u001b[0;32mexcept\u001b[0m \u001b[0;34m(\u001b[0m\u001b[0mKeyError\u001b[0m\u001b[0;34m,\u001b[0m \u001b[0mIndexError\u001b[0m\u001b[0;34m,\u001b[0m \u001b[0mAttributeError\u001b[0m\u001b[0;34m)\u001b[0m\u001b[0;34m:\u001b[0m\u001b[0;34m\u001b[0m\u001b[0;34m\u001b[0m\u001b[0m\n\u001b[1;32m   1493\u001b[0m                 \u001b[0;32mpass\u001b[0m\u001b[0;34m\u001b[0m\u001b[0;34m\u001b[0m\u001b[0m\n\u001b[0;32m-> 1494\u001b[0;31m             \u001b[0;32mreturn\u001b[0m \u001b[0mself\u001b[0m\u001b[0;34m.\u001b[0m\u001b[0m_getitem_tuple\u001b[0m\u001b[0;34m(\u001b[0m\u001b[0mkey\u001b[0m\u001b[0;34m)\u001b[0m\u001b[0;34m\u001b[0m\u001b[0;34m\u001b[0m\u001b[0m\n\u001b[0m\u001b[1;32m   1495\u001b[0m         \u001b[0;32melse\u001b[0m\u001b[0;34m:\u001b[0m\u001b[0;34m\u001b[0m\u001b[0;34m\u001b[0m\u001b[0m\n\u001b[1;32m   1496\u001b[0m             \u001b[0;31m# we by definition only have the 0th axis\u001b[0m\u001b[0;34m\u001b[0m\u001b[0;34m\u001b[0m\u001b[0;34m\u001b[0m\u001b[0m\n",
      "\u001b[0;32m/anaconda3/lib/python3.7/site-packages/pandas/core/indexing.py\u001b[0m in \u001b[0;36m_getitem_tuple\u001b[0;34m(self, tup)\u001b[0m\n\u001b[1;32m   2141\u001b[0m     \u001b[0;32mdef\u001b[0m \u001b[0m_getitem_tuple\u001b[0m\u001b[0;34m(\u001b[0m\u001b[0mself\u001b[0m\u001b[0;34m,\u001b[0m \u001b[0mtup\u001b[0m\u001b[0;34m)\u001b[0m\u001b[0;34m:\u001b[0m\u001b[0;34m\u001b[0m\u001b[0;34m\u001b[0m\u001b[0m\n\u001b[1;32m   2142\u001b[0m \u001b[0;34m\u001b[0m\u001b[0m\n\u001b[0;32m-> 2143\u001b[0;31m         \u001b[0mself\u001b[0m\u001b[0;34m.\u001b[0m\u001b[0m_has_valid_tuple\u001b[0m\u001b[0;34m(\u001b[0m\u001b[0mtup\u001b[0m\u001b[0;34m)\u001b[0m\u001b[0;34m\u001b[0m\u001b[0;34m\u001b[0m\u001b[0m\n\u001b[0m\u001b[1;32m   2144\u001b[0m         \u001b[0;32mtry\u001b[0m\u001b[0;34m:\u001b[0m\u001b[0;34m\u001b[0m\u001b[0;34m\u001b[0m\u001b[0m\n\u001b[1;32m   2145\u001b[0m             \u001b[0;32mreturn\u001b[0m \u001b[0mself\u001b[0m\u001b[0;34m.\u001b[0m\u001b[0m_getitem_lowerdim\u001b[0m\u001b[0;34m(\u001b[0m\u001b[0mtup\u001b[0m\u001b[0;34m)\u001b[0m\u001b[0;34m\u001b[0m\u001b[0;34m\u001b[0m\u001b[0m\n",
      "\u001b[0;32m/anaconda3/lib/python3.7/site-packages/pandas/core/indexing.py\u001b[0m in \u001b[0;36m_has_valid_tuple\u001b[0;34m(self, key)\u001b[0m\n\u001b[1;32m    221\u001b[0m                 \u001b[0;32mraise\u001b[0m \u001b[0mIndexingError\u001b[0m\u001b[0;34m(\u001b[0m\u001b[0;34m'Too many indexers'\u001b[0m\u001b[0;34m)\u001b[0m\u001b[0;34m\u001b[0m\u001b[0;34m\u001b[0m\u001b[0m\n\u001b[1;32m    222\u001b[0m             \u001b[0;32mtry\u001b[0m\u001b[0;34m:\u001b[0m\u001b[0;34m\u001b[0m\u001b[0;34m\u001b[0m\u001b[0m\n\u001b[0;32m--> 223\u001b[0;31m                 \u001b[0mself\u001b[0m\u001b[0;34m.\u001b[0m\u001b[0m_validate_key\u001b[0m\u001b[0;34m(\u001b[0m\u001b[0mk\u001b[0m\u001b[0;34m,\u001b[0m \u001b[0mi\u001b[0m\u001b[0;34m)\u001b[0m\u001b[0;34m\u001b[0m\u001b[0;34m\u001b[0m\u001b[0m\n\u001b[0m\u001b[1;32m    224\u001b[0m             \u001b[0;32mexcept\u001b[0m \u001b[0mValueError\u001b[0m\u001b[0;34m:\u001b[0m\u001b[0;34m\u001b[0m\u001b[0;34m\u001b[0m\u001b[0m\n\u001b[1;32m    225\u001b[0m                 raise ValueError(\"Location based indexing can only have \"\n",
      "\u001b[0;32m/anaconda3/lib/python3.7/site-packages/pandas/core/indexing.py\u001b[0m in \u001b[0;36m_validate_key\u001b[0;34m(self, key, axis)\u001b[0m\n\u001b[1;32m   2068\u001b[0m             \u001b[0;32mreturn\u001b[0m\u001b[0;34m\u001b[0m\u001b[0;34m\u001b[0m\u001b[0m\n\u001b[1;32m   2069\u001b[0m         \u001b[0;32melif\u001b[0m \u001b[0mis_integer\u001b[0m\u001b[0;34m(\u001b[0m\u001b[0mkey\u001b[0m\u001b[0;34m)\u001b[0m\u001b[0;34m:\u001b[0m\u001b[0;34m\u001b[0m\u001b[0;34m\u001b[0m\u001b[0m\n\u001b[0;32m-> 2070\u001b[0;31m             \u001b[0mself\u001b[0m\u001b[0;34m.\u001b[0m\u001b[0m_validate_integer\u001b[0m\u001b[0;34m(\u001b[0m\u001b[0mkey\u001b[0m\u001b[0;34m,\u001b[0m \u001b[0maxis\u001b[0m\u001b[0;34m)\u001b[0m\u001b[0;34m\u001b[0m\u001b[0;34m\u001b[0m\u001b[0m\n\u001b[0m\u001b[1;32m   2071\u001b[0m         \u001b[0;32melif\u001b[0m \u001b[0misinstance\u001b[0m\u001b[0;34m(\u001b[0m\u001b[0mkey\u001b[0m\u001b[0;34m,\u001b[0m \u001b[0mtuple\u001b[0m\u001b[0;34m)\u001b[0m\u001b[0;34m:\u001b[0m\u001b[0;34m\u001b[0m\u001b[0;34m\u001b[0m\u001b[0m\n\u001b[1;32m   2072\u001b[0m             \u001b[0;31m# a tuple should already have been caught by this point\u001b[0m\u001b[0;34m\u001b[0m\u001b[0;34m\u001b[0m\u001b[0;34m\u001b[0m\u001b[0m\n",
      "\u001b[0;32m/anaconda3/lib/python3.7/site-packages/pandas/core/indexing.py\u001b[0m in \u001b[0;36m_validate_integer\u001b[0;34m(self, key, axis)\u001b[0m\n\u001b[1;32m   2137\u001b[0m         \u001b[0mlen_axis\u001b[0m \u001b[0;34m=\u001b[0m \u001b[0mlen\u001b[0m\u001b[0;34m(\u001b[0m\u001b[0mself\u001b[0m\u001b[0;34m.\u001b[0m\u001b[0mobj\u001b[0m\u001b[0;34m.\u001b[0m\u001b[0m_get_axis\u001b[0m\u001b[0;34m(\u001b[0m\u001b[0maxis\u001b[0m\u001b[0;34m)\u001b[0m\u001b[0;34m)\u001b[0m\u001b[0;34m\u001b[0m\u001b[0;34m\u001b[0m\u001b[0m\n\u001b[1;32m   2138\u001b[0m         \u001b[0;32mif\u001b[0m \u001b[0mkey\u001b[0m \u001b[0;34m>=\u001b[0m \u001b[0mlen_axis\u001b[0m \u001b[0;32mor\u001b[0m \u001b[0mkey\u001b[0m \u001b[0;34m<\u001b[0m \u001b[0;34m-\u001b[0m\u001b[0mlen_axis\u001b[0m\u001b[0;34m:\u001b[0m\u001b[0;34m\u001b[0m\u001b[0;34m\u001b[0m\u001b[0m\n\u001b[0;32m-> 2139\u001b[0;31m             \u001b[0;32mraise\u001b[0m \u001b[0mIndexError\u001b[0m\u001b[0;34m(\u001b[0m\u001b[0;34m\"single positional indexer is out-of-bounds\"\u001b[0m\u001b[0;34m)\u001b[0m\u001b[0;34m\u001b[0m\u001b[0;34m\u001b[0m\u001b[0m\n\u001b[0m\u001b[1;32m   2140\u001b[0m \u001b[0;34m\u001b[0m\u001b[0m\n\u001b[1;32m   2141\u001b[0m     \u001b[0;32mdef\u001b[0m \u001b[0m_getitem_tuple\u001b[0m\u001b[0;34m(\u001b[0m\u001b[0mself\u001b[0m\u001b[0;34m,\u001b[0m \u001b[0mtup\u001b[0m\u001b[0;34m)\u001b[0m\u001b[0;34m:\u001b[0m\u001b[0;34m\u001b[0m\u001b[0;34m\u001b[0m\u001b[0m\n",
      "\u001b[0;31mIndexError\u001b[0m: single positional indexer is out-of-bounds"
     ]
    }
   ],
   "source": [
    "sleep(150)\n",
    "scrape_shoes(2000,2067)"
   ]
  },
  {
   "cell_type": "code",
   "execution_count": 29,
   "metadata": {},
   "outputs": [
    {
     "data": {
      "text/plain": [
       "2066"
      ]
     },
     "execution_count": 29,
     "metadata": {},
     "output_type": "execute_result"
    }
   ],
   "source": [
    "# Check total number of shoes.\n",
    "len(shoes)"
   ]
  },
  {
   "cell_type": "markdown",
   "metadata": {},
   "source": [
    "### Final check"
   ]
  },
  {
   "cell_type": "code",
   "execution_count": 31,
   "metadata": {
    "scrolled": true
   },
   "outputs": [
    {
     "name": "stdout",
     "output_type": "stream",
     "text": [
      "Scraped data for total of 2066 shoes, comprising 35 features.\n"
     ]
    },
    {
     "data": {
      "text/html": [
       "<div>\n",
       "<style scoped>\n",
       "    .dataframe tbody tr th:only-of-type {\n",
       "        vertical-align: middle;\n",
       "    }\n",
       "\n",
       "    .dataframe tbody tr th {\n",
       "        vertical-align: top;\n",
       "    }\n",
       "\n",
       "    .dataframe thead th {\n",
       "        text-align: right;\n",
       "    }\n",
       "</style>\n",
       "<table border=\"1\" class=\"dataframe\">\n",
       "  <thead>\n",
       "    <tr style=\"text-align: right;\">\n",
       "      <th></th>\n",
       "      <th>name</th>\n",
       "      <th>brand</th>\n",
       "      <th>core_score</th>\n",
       "      <th>user_review_count</th>\n",
       "      <th>expert_review_count</th>\n",
       "      <th>user_rating</th>\n",
       "      <th>expert_rating</th>\n",
       "      <th>user_5star</th>\n",
       "      <th>user_4star</th>\n",
       "      <th>user_3star</th>\n",
       "      <th>...</th>\n",
       "      <th>forefoot_height</th>\n",
       "      <th>width</th>\n",
       "      <th>good_summary</th>\n",
       "      <th>bad_summary</th>\n",
       "      <th>summary</th>\n",
       "      <th>info</th>\n",
       "      <th>size_fit</th>\n",
       "      <th>outsole</th>\n",
       "      <th>midsole</th>\n",
       "      <th>upper</th>\n",
       "    </tr>\n",
       "  </thead>\n",
       "  <tbody>\n",
       "    <tr>\n",
       "      <th>1856</th>\n",
       "      <td>Reebok Carthage 3.0</td>\n",
       "      <td>Reebok</td>\n",
       "      <td>79</td>\n",
       "      <td>8</td>\n",
       "      <td></td>\n",
       "      <td>4.6</td>\n",
       "      <td></td>\n",
       "      <td>75%</td>\n",
       "      <td>13%</td>\n",
       "      <td>13%</td>\n",
       "      <td>...</td>\n",
       "      <td></td>\n",
       "      <td>Men: Standard;Women: Standard;</td>\n",
       "      <td>The upper unit of this running shoe makes use ...</td>\n",
       "      <td>Some runners thought that the Carthage 3.0 loo...</td>\n",
       "      <td>The Reebok Carthage 3.0 is a prime choice for ...</td>\n",
       "      <td>The Reebok Carthage 3.0 is a go-to shoe for an...</td>\n",
       "      <td>The Reebok Carthage 3.0 has a standard running...</td>\n",
       "      <td>Carbon rubber a durable compound that’s used i...</td>\n",
       "      <td>The DMXRide is an underfoot cushioning system ...</td>\n",
       "      <td>The upper unit uses an Open Weave Mesh, which ...</td>\n",
       "    </tr>\n",
       "    <tr>\n",
       "      <th>813</th>\n",
       "      <td>Adidas Response Boost 2</td>\n",
       "      <td>Adidas</td>\n",
       "      <td>91</td>\n",
       "      <td>184</td>\n",
       "      <td>1</td>\n",
       "      <td>4.5</td>\n",
       "      <td>83</td>\n",
       "      <td>76%</td>\n",
       "      <td>13%</td>\n",
       "      <td>4%</td>\n",
       "      <td>...</td>\n",
       "      <td>Men: 20mm;Women: 20mm;</td>\n",
       "      <td>Men: Standard;Women: Standard;</td>\n",
       "      <td>The word ‘comfortable’ was used many times by ...</td>\n",
       "      <td>There were reviewers who noted that it was one...</td>\n",
       "      <td>The 2nd version of the Response Boost from Adi...</td>\n",
       "      <td>Adidas makes several changes in the 2nd iterat...</td>\n",
       "      <td>Adidas patterned the fit and sizing of the Res...</td>\n",
       "      <td>The outsole configuration shows rubber treads ...</td>\n",
       "      <td>A firm foam and a plastic shank in the midfoot...</td>\n",
       "      <td>The Techfit upper encapsulates the use of brea...</td>\n",
       "    </tr>\n",
       "    <tr>\n",
       "      <th>1386</th>\n",
       "      <td>Saucony Linchpin</td>\n",
       "      <td>Saucony</td>\n",
       "      <td>80</td>\n",
       "      <td>60</td>\n",
       "      <td></td>\n",
       "      <td>4</td>\n",
       "      <td></td>\n",
       "      <td>52%</td>\n",
       "      <td>18%</td>\n",
       "      <td>13%</td>\n",
       "      <td>...</td>\n",
       "      <td>Men: 18mm;Women: 18mm;</td>\n",
       "      <td>Men: Standard;Women: Standard;</td>\n",
       "      <td>A few reviewers felt that the Saucony Linchpin...</td>\n",
       "      <td>Various users felt that Saucony skimped on the...</td>\n",
       "      <td>The Saucony Linchpin was meant to be an all-ar...</td>\n",
       "      <td></td>\n",
       "      <td>The Saucony Linchpin comes in standard shoe le...</td>\n",
       "      <td>The outsole of the Saucony Linchpin was crafte...</td>\n",
       "      <td>The midsole unit features Saucony’s PowerGrid ...</td>\n",
       "      <td>The upper of the shoe is made with a breathabl...</td>\n",
       "    </tr>\n",
       "    <tr>\n",
       "      <th>1020</th>\n",
       "      <td>Nike Air Max Sequent</td>\n",
       "      <td>Nike</td>\n",
       "      <td>86</td>\n",
       "      <td>1154</td>\n",
       "      <td></td>\n",
       "      <td>4.3</td>\n",
       "      <td></td>\n",
       "      <td>67%</td>\n",
       "      <td>15%</td>\n",
       "      <td>6%</td>\n",
       "      <td>...</td>\n",
       "      <td></td>\n",
       "      <td>Men: Standard;Women: Standard;</td>\n",
       "      <td>The Nike Sequent is amazingly comfortable for ...</td>\n",
       "      <td>Based on several remarks, the Air Max Sequent ...</td>\n",
       "      <td>Nike adds another Air Max entry in the form of...</td>\n",
       "      <td>Nike delivers a version of the Air Max that ma...</td>\n",
       "      <td>The fit of the Nike Sequent is designed for th...</td>\n",
       "      <td>Nike keeps it basic in the outsole as it uses ...</td>\n",
       "      <td>The midsole features soft cushioning with a to...</td>\n",
       "      <td>The totally seamless upper is an exercise in s...</td>\n",
       "    </tr>\n",
       "    <tr>\n",
       "      <th>969</th>\n",
       "      <td>Nike Air Zoom All Out Flyknit</td>\n",
       "      <td>Nike</td>\n",
       "      <td>86</td>\n",
       "      <td>89</td>\n",
       "      <td>7</td>\n",
       "      <td>4.3</td>\n",
       "      <td>76</td>\n",
       "      <td>63%</td>\n",
       "      <td>19%</td>\n",
       "      <td>9%</td>\n",
       "      <td>...</td>\n",
       "      <td>Men: 21mm;Women: 21mm;</td>\n",
       "      <td>Men: Narrow, Standard;Women: Standard, Wide;</td>\n",
       "      <td>The Flyknit material used for the upper feels ...</td>\n",
       "      <td>There were those who felt the rear section of ...</td>\n",
       "      <td>Natural motion and flexibility are afforded by...</td>\n",
       "      <td>Natural foot motion is a design philosophy tha...</td>\n",
       "      <td>The Nike Air Zoom All Out Flyknit has a standa...</td>\n",
       "      <td>The BRS 1000 is an outsole layer that’s made f...</td>\n",
       "      <td>The Cushlon is a lightweight and responsive fo...</td>\n",
       "      <td>The Flyknit is a comfortable fabric in the upp...</td>\n",
       "    </tr>\n",
       "  </tbody>\n",
       "</table>\n",
       "<p>5 rows × 35 columns</p>\n",
       "</div>"
      ],
      "text/plain": [
       "                               name    brand core_score user_review_count  \\\n",
       "1856            Reebok Carthage 3.0   Reebok         79                 8   \n",
       "813         Adidas Response Boost 2   Adidas         91               184   \n",
       "1386               Saucony Linchpin  Saucony         80                60   \n",
       "1020           Nike Air Max Sequent     Nike         86              1154   \n",
       "969   Nike Air Zoom All Out Flyknit     Nike         86                89   \n",
       "\n",
       "     expert_review_count user_rating expert_rating user_5star user_4star  \\\n",
       "1856                             4.6                      75%        13%   \n",
       "813                    1         4.5            83        76%        13%   \n",
       "1386                               4                      52%        18%   \n",
       "1020                             4.3                      67%        15%   \n",
       "969                    7         4.3            76        63%        19%   \n",
       "\n",
       "     user_3star  ...         forefoot_height  \\\n",
       "1856        13%  ...                           \n",
       "813          4%  ...  Men: 20mm;Women: 20mm;   \n",
       "1386        13%  ...  Men: 18mm;Women: 18mm;   \n",
       "1020         6%  ...                           \n",
       "969          9%  ...  Men: 21mm;Women: 21mm;   \n",
       "\n",
       "                                             width  \\\n",
       "1856                Men: Standard;Women: Standard;   \n",
       "813                 Men: Standard;Women: Standard;   \n",
       "1386                Men: Standard;Women: Standard;   \n",
       "1020                Men: Standard;Women: Standard;   \n",
       "969   Men: Narrow, Standard;Women: Standard, Wide;   \n",
       "\n",
       "                                           good_summary  \\\n",
       "1856  The upper unit of this running shoe makes use ...   \n",
       "813   The word ‘comfortable’ was used many times by ...   \n",
       "1386  A few reviewers felt that the Saucony Linchpin...   \n",
       "1020  The Nike Sequent is amazingly comfortable for ...   \n",
       "969   The Flyknit material used for the upper feels ...   \n",
       "\n",
       "                                            bad_summary  \\\n",
       "1856  Some runners thought that the Carthage 3.0 loo...   \n",
       "813   There were reviewers who noted that it was one...   \n",
       "1386  Various users felt that Saucony skimped on the...   \n",
       "1020  Based on several remarks, the Air Max Sequent ...   \n",
       "969   There were those who felt the rear section of ...   \n",
       "\n",
       "                                                summary  \\\n",
       "1856  The Reebok Carthage 3.0 is a prime choice for ...   \n",
       "813   The 2nd version of the Response Boost from Adi...   \n",
       "1386  The Saucony Linchpin was meant to be an all-ar...   \n",
       "1020  Nike adds another Air Max entry in the form of...   \n",
       "969   Natural motion and flexibility are afforded by...   \n",
       "\n",
       "                                                   info  \\\n",
       "1856  The Reebok Carthage 3.0 is a go-to shoe for an...   \n",
       "813   Adidas makes several changes in the 2nd iterat...   \n",
       "1386                                                      \n",
       "1020  Nike delivers a version of the Air Max that ma...   \n",
       "969   Natural foot motion is a design philosophy tha...   \n",
       "\n",
       "                                               size_fit  \\\n",
       "1856  The Reebok Carthage 3.0 has a standard running...   \n",
       "813   Adidas patterned the fit and sizing of the Res...   \n",
       "1386  The Saucony Linchpin comes in standard shoe le...   \n",
       "1020  The fit of the Nike Sequent is designed for th...   \n",
       "969   The Nike Air Zoom All Out Flyknit has a standa...   \n",
       "\n",
       "                                                outsole  \\\n",
       "1856  Carbon rubber a durable compound that’s used i...   \n",
       "813   The outsole configuration shows rubber treads ...   \n",
       "1386  The outsole of the Saucony Linchpin was crafte...   \n",
       "1020  Nike keeps it basic in the outsole as it uses ...   \n",
       "969   The BRS 1000 is an outsole layer that’s made f...   \n",
       "\n",
       "                                                midsole  \\\n",
       "1856  The DMXRide is an underfoot cushioning system ...   \n",
       "813   A firm foam and a plastic shank in the midfoot...   \n",
       "1386  The midsole unit features Saucony’s PowerGrid ...   \n",
       "1020  The midsole features soft cushioning with a to...   \n",
       "969   The Cushlon is a lightweight and responsive fo...   \n",
       "\n",
       "                                                  upper  \n",
       "1856  The upper unit uses an Open Weave Mesh, which ...  \n",
       "813   The Techfit upper encapsulates the use of brea...  \n",
       "1386  The upper of the shoe is made with a breathabl...  \n",
       "1020  The totally seamless upper is an exercise in s...  \n",
       "969   The Flyknit is a comfortable fabric in the upp...  \n",
       "\n",
       "[5 rows x 35 columns]"
      ]
     },
     "execution_count": 31,
     "metadata": {},
     "output_type": "execute_result"
    }
   ],
   "source": [
    "# Final look at DataFrame of scraped shoe data\n",
    "df = pd.DataFrame(shoes, columns = columns)\n",
    "print(f\"Scraped data for total of {df.shape[0]} shoes, comprising {df.shape[1]} features.\")\n",
    "df.sample(5)"
   ]
  },
  {
   "cell_type": "code",
   "execution_count": 32,
   "metadata": {},
   "outputs": [],
   "source": [
    "# Final save to csv\n",
    "df.to_csv('shoe_data.csv', index=False)"
   ]
  },
  {
   "cell_type": "code",
   "execution_count": null,
   "metadata": {},
   "outputs": [],
   "source": []
  }
 ],
 "metadata": {
  "kernelspec": {
   "display_name": "Python 3",
   "language": "python",
   "name": "python3"
  },
  "language_info": {
   "codemirror_mode": {
    "name": "ipython",
    "version": 3
   },
   "file_extension": ".py",
   "mimetype": "text/x-python",
   "name": "python",
   "nbconvert_exporter": "python",
   "pygments_lexer": "ipython3",
   "version": "3.7.3"
  }
 },
 "nbformat": 4,
 "nbformat_minor": 2
}
